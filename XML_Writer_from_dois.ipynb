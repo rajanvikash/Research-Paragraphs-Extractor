{
 "cells": [
  {
   "cell_type": "code",
   "execution_count": null,
   "id": "5199b92c",
   "metadata": {},
   "outputs": [],
   "source": [
    "import requests\n",
    "from bs4 import BeautifulSoup\n",
    "import re\n",
    "import unicodedata"
   ]
  },
  {
   "cell_type": "markdown",
   "id": "1b84bcb3",
   "metadata": {},
   "source": [
    "# code for writing xml from Elsevier papers through paper's doi"
   ]
  },
  {
   "cell_type": "code",
   "execution_count": null,
   "id": "c406c93c",
   "metadata": {},
   "outputs": [],
   "source": [
    "import requests\n",
    "dois =['10.1016/j.apsusc.2016.12.052'] # make list of all dois available\n",
    "j =1\n",
    "for i, doi in enumerate(dois): # here queries is the list of dois for writing xml\n",
    "  xml_url='https://api.elsevier.com/content/article/doi/' + doi + '?view=FULL'\n",
    "  \n",
    "  headers = {\n",
    "            'X-ELS-APIKEY': '410695f2c877b1beb1a44d0b4c363ceb', # api keys from elsevier site\n",
    "            'Accept': 'text/xml'\n",
    "          }\n",
    "\n",
    "  r = requests.get(xml_url,stream = True,  headers=headers, timeout=30)\n",
    "  print(r.status_code)\n",
    "  if r.status_code == 200: # to check either request has been succeded or not\n",
    "    try:\n",
    "      writefile  = open(\"G:\\\\publisherless_elsvier_xml\\\\xml_\" +str(j) + '.xml', 'wb')\n",
    "      j = j+1\n",
    "      \n",
    "\n",
    "      for chunk in r.iter_content(2048): # writing of content of paper to xml file\n",
    "        writefile.write((chunk))\n",
    "    except:\n",
    "      continue"
   ]
  },
  {
   "cell_type": "markdown",
   "id": "c1397a6c",
   "metadata": {},
   "source": [
    "# code for writing html from Nature's papers through paper's doi"
   ]
  },
  {
   "cell_type": "code",
   "execution_count": null,
   "id": "bb96b513",
   "metadata": {},
   "outputs": [],
   "source": [
    "dois=['10.1557/mrc.2020.34', '10.1557/mrc.2018.208']\n",
    "j = 0\n",
    "for i, doi in enumerate(dois):\n",
    " \n",
    "  download_url = 'https://doi.org/' + doi\n",
    "  headers = {\n",
    "        'Accept': 'text/html',\n",
    "        \"User-Agent\": \"Mozilla/5.0 (Windows NT 10.0; Win64; x64)\"\n",
    "    }\n",
    "  r = requests.get(download_url, stream=True, headers=headers, timeout=60)\n",
    "  print(i,r.status_code)\n",
    " \n",
    "\n",
    "\n",
    "  if r.status_code == 200:\n",
    "    writefile  = open(\"G:\\\\New folder\\\\springer_papers\\\\springer_\" + str(j) + '.html', 'wb')\n",
    "    j = j+1\n",
    "    try:\n",
    "      for chunk in r.iter_content(2048):\n",
    "        writefile.write((chunk))\n",
    "\n",
    "    except:\n",
    "      continue\n",
    "    \n"
   ]
  }
 ],
 "metadata": {
  "kernelspec": {
   "display_name": "Python 3 (ipykernel)",
   "language": "python",
   "name": "python3"
  },
  "language_info": {
   "codemirror_mode": {
    "name": "ipython",
    "version": 3
   },
   "file_extension": ".py",
   "mimetype": "text/x-python",
   "name": "python",
   "nbconvert_exporter": "python",
   "pygments_lexer": "ipython3",
   "version": "3.9.12"
  }
 },
 "nbformat": 4,
 "nbformat_minor": 5
}
