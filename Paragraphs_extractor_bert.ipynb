{
  "nbformat": 4,
  "nbformat_minor": 0,
  "metadata": {
    "colab": {
      "provenance": [],
      "collapsed_sections": [],
      "include_colab_link": true
    },
    "kernelspec": {
      "name": "python3",
      "display_name": "Python 3"
    },
    "language_info": {
      "name": "python"
    },
    "accelerator": "GPU",
    "gpuClass": "standard"
  },
  "cells": [
    {
      "cell_type": "markdown",
      "metadata": {
        "id": "view-in-github",
        "colab_type": "text"
      },
      "source": [
        "<a href=\"https://colab.research.google.com/github/rajanvikash/Research-Paragraphs-Extractor/blob/main/Paragraphs_extractor_bert.ipynb\" target=\"_parent\"><img src=\"https://colab.research.google.com/assets/colab-badge.svg\" alt=\"Open In Colab\"/></a>"
      ]
    },
    {
      "cell_type": "code",
      "execution_count": 1,
      "metadata": {
        "id": "X9IzUBqlxEtb"
      },
      "outputs": [],
      "source": [
        "import tensorflow_hub as hub\n",
        "import tensorflow as tf\n",
        "import pandas as pd\n",
        "import numpy as np\n",
        "from sklearn.metrics import confusion_matrix , classification_report"
      ]
    },
    {
      "cell_type": "code",
      "source": [
        "import sklearn.externals  # joblib is file creator for storing our trained model\n",
        "import joblib"
      ],
      "metadata": {
        "id": "yQLQmgApXg4_"
      },
      "execution_count": 2,
      "outputs": []
    },
    {
      "cell_type": "code",
      "source": [
        "!pip install tensorflow_text==2.8.2\n",
        "import tensorflow_text as text\n",
        "print(text.__version__)"
      ],
      "metadata": {
        "id": "XDbk7JiNxkLw"
      },
      "execution_count": null,
      "outputs": []
    },
    {
      "cell_type": "code",
      "source": [
        "encoder_url = 'https://tfhub.dev/tensorflow/bert_en_uncased_L-12_H-768_A-12/4'\n",
        "preprocess_url = 'https://tfhub.dev/tensorflow/bert_en_uncased_preprocess/3'"
      ],
      "metadata": {
        "id": "VyTlLzi2x0qn"
      },
      "execution_count": null,
      "outputs": []
    },
    {
      "cell_type": "code",
      "source": [
        "preprocess_model = hub.KerasLayer(preprocess_url)\n",
        "bert_model = hub.KerasLayer(encoder_url)"
      ],
      "metadata": {
        "id": "IN0gGIzZ2_7G"
      },
      "execution_count": null,
      "outputs": []
    },
    {
      "cell_type": "markdown",
      "source": [
        "Creating neural network layeers"
      ],
      "metadata": {
        "id": "JRUndLEmTbE8"
      }
    },
    {
      "cell_type": "code",
      "source": [
        "text_input = tf.keras.layers.Input(shape=(), dtype=tf.string, name='text')\n",
        "preprocessed_text = preprocess_model(text_input)\n",
        "outputs = bert_model(preprocessed_text)"
      ],
      "metadata": {
        "id": "MdMR-mDEThIh"
      },
      "execution_count": null,
      "outputs": []
    },
    {
      "cell_type": "code",
      "source": [
        "l = tf.keras.layers.Dropout(0.1, name=\"dropout\")(outputs['pooled_output'])\n",
        "l = tf.keras.layers.Dense(1, activation='sigmoid', name=\"output\")(l)"
      ],
      "metadata": {
        "id": "gVix1PwnTzFw"
      },
      "execution_count": null,
      "outputs": []
    },
    {
      "cell_type": "markdown",
      "source": [
        "Reading files"
      ],
      "metadata": {
        "id": "R286F0vIUHA9"
      }
    },
    {
      "cell_type": "code",
      "source": [
        "df = pd.read_csv('/content/train_para.csv')\n",
        "df.head(10)"
      ],
      "metadata": {
        "colab": {
          "base_uri": "https://localhost:8080/",
          "height": 363
        },
        "id": "kmFud6pGx5K3",
        "outputId": "3208e9cb-7093-45ca-eab3-bb65126656a5"
      },
      "execution_count": 5,
      "outputs": [
        {
          "output_type": "execute_result",
          "data": {
            "text/plain": [
              "                                           Paragraph  Classifier\n",
              "0  The SLs were grown by pulsed laser deposition ...           1\n",
              "1  Here, we report on the formation of large area...           1\n",
              "2  Thin films ofw-BN are grown by pulsed laser de...           1\n",
              "3  Interconnected ZnO core/shell nanorods were gr...           1\n",
              "4  Before deposition, the substrates were heated ...           1\n",
              "5  The lower laser pulse energy of 110 mJ and flu...           1\n",
              "6  The experiments of thin coatings deposition we...           1\n",
              "7  For the preparation of thin films synthetic, p...           1\n",
              "8  Zr50Cu50(% at.) thin films have been deposited...           1\n",
              "9  Sb2Te3thin films were grown on 20 nm thick sil...           1"
            ],
            "text/html": [
              "\n",
              "  <div id=\"df-9c2193ff-48e2-4498-81da-c6089a39db38\">\n",
              "    <div class=\"colab-df-container\">\n",
              "      <div>\n",
              "<style scoped>\n",
              "    .dataframe tbody tr th:only-of-type {\n",
              "        vertical-align: middle;\n",
              "    }\n",
              "\n",
              "    .dataframe tbody tr th {\n",
              "        vertical-align: top;\n",
              "    }\n",
              "\n",
              "    .dataframe thead th {\n",
              "        text-align: right;\n",
              "    }\n",
              "</style>\n",
              "<table border=\"1\" class=\"dataframe\">\n",
              "  <thead>\n",
              "    <tr style=\"text-align: right;\">\n",
              "      <th></th>\n",
              "      <th>Paragraph</th>\n",
              "      <th>Classifier</th>\n",
              "    </tr>\n",
              "  </thead>\n",
              "  <tbody>\n",
              "    <tr>\n",
              "      <th>0</th>\n",
              "      <td>The SLs were grown by pulsed laser deposition ...</td>\n",
              "      <td>1</td>\n",
              "    </tr>\n",
              "    <tr>\n",
              "      <th>1</th>\n",
              "      <td>Here, we report on the formation of large area...</td>\n",
              "      <td>1</td>\n",
              "    </tr>\n",
              "    <tr>\n",
              "      <th>2</th>\n",
              "      <td>Thin films ofw-BN are grown by pulsed laser de...</td>\n",
              "      <td>1</td>\n",
              "    </tr>\n",
              "    <tr>\n",
              "      <th>3</th>\n",
              "      <td>Interconnected ZnO core/shell nanorods were gr...</td>\n",
              "      <td>1</td>\n",
              "    </tr>\n",
              "    <tr>\n",
              "      <th>4</th>\n",
              "      <td>Before deposition, the substrates were heated ...</td>\n",
              "      <td>1</td>\n",
              "    </tr>\n",
              "    <tr>\n",
              "      <th>5</th>\n",
              "      <td>The lower laser pulse energy of 110 mJ and flu...</td>\n",
              "      <td>1</td>\n",
              "    </tr>\n",
              "    <tr>\n",
              "      <th>6</th>\n",
              "      <td>The experiments of thin coatings deposition we...</td>\n",
              "      <td>1</td>\n",
              "    </tr>\n",
              "    <tr>\n",
              "      <th>7</th>\n",
              "      <td>For the preparation of thin films synthetic, p...</td>\n",
              "      <td>1</td>\n",
              "    </tr>\n",
              "    <tr>\n",
              "      <th>8</th>\n",
              "      <td>Zr50Cu50(% at.) thin films have been deposited...</td>\n",
              "      <td>1</td>\n",
              "    </tr>\n",
              "    <tr>\n",
              "      <th>9</th>\n",
              "      <td>Sb2Te3thin films were grown on 20 nm thick sil...</td>\n",
              "      <td>1</td>\n",
              "    </tr>\n",
              "  </tbody>\n",
              "</table>\n",
              "</div>\n",
              "      <button class=\"colab-df-convert\" onclick=\"convertToInteractive('df-9c2193ff-48e2-4498-81da-c6089a39db38')\"\n",
              "              title=\"Convert this dataframe to an interactive table.\"\n",
              "              style=\"display:none;\">\n",
              "        \n",
              "  <svg xmlns=\"http://www.w3.org/2000/svg\" height=\"24px\"viewBox=\"0 0 24 24\"\n",
              "       width=\"24px\">\n",
              "    <path d=\"M0 0h24v24H0V0z\" fill=\"none\"/>\n",
              "    <path d=\"M18.56 5.44l.94 2.06.94-2.06 2.06-.94-2.06-.94-.94-2.06-.94 2.06-2.06.94zm-11 1L8.5 8.5l.94-2.06 2.06-.94-2.06-.94L8.5 2.5l-.94 2.06-2.06.94zm10 10l.94 2.06.94-2.06 2.06-.94-2.06-.94-.94-2.06-.94 2.06-2.06.94z\"/><path d=\"M17.41 7.96l-1.37-1.37c-.4-.4-.92-.59-1.43-.59-.52 0-1.04.2-1.43.59L10.3 9.45l-7.72 7.72c-.78.78-.78 2.05 0 2.83L4 21.41c.39.39.9.59 1.41.59.51 0 1.02-.2 1.41-.59l7.78-7.78 2.81-2.81c.8-.78.8-2.07 0-2.86zM5.41 20L4 18.59l7.72-7.72 1.47 1.35L5.41 20z\"/>\n",
              "  </svg>\n",
              "      </button>\n",
              "      \n",
              "  <style>\n",
              "    .colab-df-container {\n",
              "      display:flex;\n",
              "      flex-wrap:wrap;\n",
              "      gap: 12px;\n",
              "    }\n",
              "\n",
              "    .colab-df-convert {\n",
              "      background-color: #E8F0FE;\n",
              "      border: none;\n",
              "      border-radius: 50%;\n",
              "      cursor: pointer;\n",
              "      display: none;\n",
              "      fill: #1967D2;\n",
              "      height: 32px;\n",
              "      padding: 0 0 0 0;\n",
              "      width: 32px;\n",
              "    }\n",
              "\n",
              "    .colab-df-convert:hover {\n",
              "      background-color: #E2EBFA;\n",
              "      box-shadow: 0px 1px 2px rgba(60, 64, 67, 0.3), 0px 1px 3px 1px rgba(60, 64, 67, 0.15);\n",
              "      fill: #174EA6;\n",
              "    }\n",
              "\n",
              "    [theme=dark] .colab-df-convert {\n",
              "      background-color: #3B4455;\n",
              "      fill: #D2E3FC;\n",
              "    }\n",
              "\n",
              "    [theme=dark] .colab-df-convert:hover {\n",
              "      background-color: #434B5C;\n",
              "      box-shadow: 0px 1px 3px 1px rgba(0, 0, 0, 0.15);\n",
              "      filter: drop-shadow(0px 1px 2px rgba(0, 0, 0, 0.3));\n",
              "      fill: #FFFFFF;\n",
              "    }\n",
              "  </style>\n",
              "\n",
              "      <script>\n",
              "        const buttonEl =\n",
              "          document.querySelector('#df-9c2193ff-48e2-4498-81da-c6089a39db38 button.colab-df-convert');\n",
              "        buttonEl.style.display =\n",
              "          google.colab.kernel.accessAllowed ? 'block' : 'none';\n",
              "\n",
              "        async function convertToInteractive(key) {\n",
              "          const element = document.querySelector('#df-9c2193ff-48e2-4498-81da-c6089a39db38');\n",
              "          const dataTable =\n",
              "            await google.colab.kernel.invokeFunction('convertToInteractive',\n",
              "                                                     [key], {});\n",
              "          if (!dataTable) return;\n",
              "\n",
              "          const docLinkHtml = 'Like what you see? Visit the ' +\n",
              "            '<a target=\"_blank\" href=https://colab.research.google.com/notebooks/data_table.ipynb>data table notebook</a>'\n",
              "            + ' to learn more about interactive tables.';\n",
              "          element.innerHTML = '';\n",
              "          dataTable['output_type'] = 'display_data';\n",
              "          await google.colab.output.renderOutput(dataTable, element);\n",
              "          const docLink = document.createElement('div');\n",
              "          docLink.innerHTML = docLinkHtml;\n",
              "          element.appendChild(docLink);\n",
              "        }\n",
              "      </script>\n",
              "    </div>\n",
              "  </div>\n",
              "  "
            ]
          },
          "metadata": {},
          "execution_count": 5
        }
      ]
    },
    {
      "cell_type": "code",
      "source": [
        "df.Classifier.value_counts()\n"
      ],
      "metadata": {
        "colab": {
          "base_uri": "https://localhost:8080/"
        },
        "id": "zjicpTMZzjuW",
        "outputId": "e30b4485-8469-4691-9a78-920b249e5a24"
      },
      "execution_count": 6,
      "outputs": [
        {
          "output_type": "execute_result",
          "data": {
            "text/plain": [
              "0    4653\n",
              "1     577\n",
              "Name: Classifier, dtype: int64"
            ]
          },
          "metadata": {},
          "execution_count": 6
        }
      ]
    },
    {
      "cell_type": "code",
      "source": [
        "count_class_0 , count_class_1 = df.Classifier.value_counts()\n",
        "print(count_class_0 , count_class_1)"
      ],
      "metadata": {
        "colab": {
          "base_uri": "https://localhost:8080/"
        },
        "id": "2ZhDdL5Dz4Cu",
        "outputId": "606c73ec-9cf7-4192-98ba-bd198f76ae66"
      },
      "execution_count": 7,
      "outputs": [
        {
          "output_type": "stream",
          "name": "stdout",
          "text": [
            "4653 577\n"
          ]
        }
      ]
    },
    {
      "cell_type": "code",
      "source": [
        "df_class_0 = df[df['Classifier']== 0]\n",
        "df_class_0.shape"
      ],
      "metadata": {
        "colab": {
          "base_uri": "https://localhost:8080/"
        },
        "id": "wr9CRFrc0jDk",
        "outputId": "4e331eef-1a56-4105-f347-9729076068e6"
      },
      "execution_count": 8,
      "outputs": [
        {
          "output_type": "execute_result",
          "data": {
            "text/plain": [
              "(4653, 2)"
            ]
          },
          "metadata": {},
          "execution_count": 8
        }
      ]
    },
    {
      "cell_type": "code",
      "source": [
        "df_class_1 = df[df['Classifier']== 1]\n",
        "df_class_1.shape"
      ],
      "metadata": {
        "colab": {
          "base_uri": "https://localhost:8080/"
        },
        "id": "dkifGgc10lsa",
        "outputId": "db97b5c9-68f0-428f-9bcf-e5868ca63d87"
      },
      "execution_count": 9,
      "outputs": [
        {
          "output_type": "execute_result",
          "data": {
            "text/plain": [
              "(577, 2)"
            ]
          },
          "metadata": {},
          "execution_count": 9
        }
      ]
    },
    {
      "cell_type": "markdown",
      "source": [
        "**Under sample model**      ☹*starts here.........................................*"
      ],
      "metadata": {
        "id": "2w00dTQ5QqNg"
      }
    },
    {
      "cell_type": "code",
      "source": [
        "df_class_0_under = df_class_0.sample(count_class_1 , replace = True)\n",
        "df_class_0_under.shape"
      ],
      "metadata": {
        "colab": {
          "base_uri": "https://localhost:8080/"
        },
        "id": "f-9VZFqzO3xr",
        "outputId": "083a56e6-73e2-4388-ea39-7a2b9a5afe57"
      },
      "execution_count": null,
      "outputs": [
        {
          "output_type": "execute_result",
          "data": {
            "text/plain": [
              "(179, 2)"
            ]
          },
          "metadata": {},
          "execution_count": 45
        }
      ]
    },
    {
      "cell_type": "code",
      "source": [
        "df_undersample = pd.concat([df_class_1 , df_class_0_under], axis = 0)\n",
        "df_undersample.shape"
      ],
      "metadata": {
        "colab": {
          "base_uri": "https://localhost:8080/"
        },
        "id": "_vrQZghxPk1c",
        "outputId": "d50031aa-4538-414c-ce31-10b3664ef27d"
      },
      "execution_count": null,
      "outputs": [
        {
          "output_type": "execute_result",
          "data": {
            "text/plain": [
              "(358, 2)"
            ]
          },
          "metadata": {},
          "execution_count": 48
        }
      ]
    },
    {
      "cell_type": "code",
      "source": [
        "x_under =df_undersample.Paragraph\n",
        "y_under = df_undersample.Classifier.astype(np.float32) "
      ],
      "metadata": {
        "id": "Q3Gqzj-zSCfO"
      },
      "execution_count": null,
      "outputs": []
    },
    {
      "cell_type": "code",
      "source": [
        "len(x_under ) ,len(y_under )"
      ],
      "metadata": {
        "colab": {
          "base_uri": "https://localhost:8080/"
        },
        "id": "Uzcw8g3KSPPm",
        "outputId": "161d8517-70de-4f6a-949f-488e018808c9"
      },
      "execution_count": null,
      "outputs": [
        {
          "output_type": "execute_result",
          "data": {
            "text/plain": [
              "(358, 358)"
            ]
          },
          "metadata": {},
          "execution_count": 51
        }
      ]
    },
    {
      "cell_type": "code",
      "source": [
        "from sklearn.model_selection import train_test_split\n",
        "x_under_train , x_under_test , y_under_train , y_under_test = train_test_split(x_under , y_under , test_size = 0.2, stratify = y_under )\n",
        "len(x_under_test)/len(x_under_train)"
      ],
      "metadata": {
        "colab": {
          "base_uri": "https://localhost:8080/"
        },
        "id": "e7Ipx7d0Si0e",
        "outputId": "a5bb8c91-f39b-4028-95ef-ea46458ea0ac"
      },
      "execution_count": null,
      "outputs": [
        {
          "output_type": "execute_result",
          "data": {
            "text/plain": [
              "0.2517482517482518"
            ]
          },
          "metadata": {},
          "execution_count": 52
        }
      ]
    },
    {
      "cell_type": "code",
      "source": [
        "model_under = tf.keras.Model(inputs=[text_input], outputs = [l])\n",
        "model_under.summary()"
      ],
      "metadata": {
        "colab": {
          "base_uri": "https://localhost:8080/"
        },
        "id": "0GEL_NZuUNXH",
        "outputId": "9d3c8313-c9d4-44aa-a20a-cee5a81b28ea"
      },
      "execution_count": null,
      "outputs": [
        {
          "output_type": "stream",
          "name": "stdout",
          "text": [
            "Model: \"model_2\"\n",
            "__________________________________________________________________________________________________\n",
            " Layer (type)                   Output Shape         Param #     Connected to                     \n",
            "==================================================================================================\n",
            " text (InputLayer)              [(None,)]            0           []                               \n",
            "                                                                                                  \n",
            " keras_layer (KerasLayer)       {'input_type_ids':   0           ['text[0][0]']                   \n",
            "                                (None, 128),                                                      \n",
            "                                 'input_word_ids':                                                \n",
            "                                (None, 128),                                                      \n",
            "                                 'input_mask': (Non                                               \n",
            "                                e, 128)}                                                          \n",
            "                                                                                                  \n",
            " keras_layer_1 (KerasLayer)     {'pooled_output': (  109482241   ['keras_layer[2][0]',            \n",
            "                                None, 768),                       'keras_layer[2][1]',            \n",
            "                                 'sequence_output':               'keras_layer[2][2]']            \n",
            "                                 (None, 128, 768),                                                \n",
            "                                 'default': (None,                                                \n",
            "                                768),                                                             \n",
            "                                 'encoder_outputs':                                               \n",
            "                                 [(None, 128, 768),                                               \n",
            "                                 (None, 128, 768),                                                \n",
            "                                 (None, 128, 768),                                                \n",
            "                                 (None, 128, 768),                                                \n",
            "                                 (None, 128, 768),                                                \n",
            "                                 (None, 128, 768),                                                \n",
            "                                 (None, 128, 768),                                                \n",
            "                                 (None, 128, 768),                                                \n",
            "                                 (None, 128, 768),                                                \n",
            "                                 (None, 128, 768),                                                \n",
            "                                 (None, 128, 768),                                                \n",
            "                                 (None, 128, 768)]}                                               \n",
            "                                                                                                  \n",
            " dropout (Dropout)              (None, 768)          0           ['keras_layer_1[2][13]']         \n",
            "                                                                                                  \n",
            " output (Dense)                 (None, 1)            769         ['dropout[0][0]']                \n",
            "                                                                                                  \n",
            "==================================================================================================\n",
            "Total params: 109,483,010\n",
            "Trainable params: 769\n",
            "Non-trainable params: 109,482,241\n",
            "__________________________________________________________________________________________________\n"
          ]
        }
      ]
    },
    {
      "cell_type": "code",
      "source": [
        "model_under.compile(optimizer='adam',\n",
        "              loss='binary_crossentropy',\n",
        "              metrics=['accuracy'])"
      ],
      "metadata": {
        "id": "-iCYTg5_Uarr"
      },
      "execution_count": null,
      "outputs": []
    },
    {
      "cell_type": "code",
      "source": [
        "y_under_train.value_counts()"
      ],
      "metadata": {
        "colab": {
          "base_uri": "https://localhost:8080/"
        },
        "id": "BfNq2xcATPny",
        "outputId": "d7975e0d-43c3-4bdb-aa4e-6a485d95c9d8"
      },
      "execution_count": null,
      "outputs": [
        {
          "output_type": "execute_result",
          "data": {
            "text/plain": [
              "1.0    143\n",
              "0.0    143\n",
              "Name: Classifier, dtype: int64"
            ]
          },
          "metadata": {},
          "execution_count": 53
        }
      ]
    },
    {
      "cell_type": "code",
      "source": [
        "model_under.fit(x_under_train, y_under_train, epochs=100)"
      ],
      "metadata": {
        "colab": {
          "base_uri": "https://localhost:8080/"
        },
        "id": "3sfg1DYaVaiz",
        "outputId": "ad517996-8fab-4d4d-e7d3-cf5c0e594948"
      },
      "execution_count": null,
      "outputs": [
        {
          "output_type": "stream",
          "name": "stdout",
          "text": [
            "Epoch 1/100\n",
            "9/9 [==============================] - 3s 333ms/step - loss: 0.4796 - accuracy: 0.7902\n",
            "Epoch 2/100\n",
            "9/9 [==============================] - 3s 338ms/step - loss: 0.4633 - accuracy: 0.8112\n",
            "Epoch 3/100\n",
            "9/9 [==============================] - 3s 339ms/step - loss: 0.4727 - accuracy: 0.7972\n",
            "Epoch 4/100\n",
            "9/9 [==============================] - 3s 338ms/step - loss: 0.4678 - accuracy: 0.8217\n",
            "Epoch 5/100\n",
            "9/9 [==============================] - 3s 342ms/step - loss: 0.4584 - accuracy: 0.8042\n",
            "Epoch 6/100\n",
            "9/9 [==============================] - 3s 343ms/step - loss: 0.4695 - accuracy: 0.8252\n",
            "Epoch 7/100\n",
            "9/9 [==============================] - 3s 383ms/step - loss: 0.4600 - accuracy: 0.7902\n",
            "Epoch 8/100\n",
            "9/9 [==============================] - 3s 380ms/step - loss: 0.4576 - accuracy: 0.8147\n",
            "Epoch 9/100\n",
            "9/9 [==============================] - 3s 349ms/step - loss: 0.4550 - accuracy: 0.8357\n",
            "Epoch 10/100\n",
            "9/9 [==============================] - 3s 347ms/step - loss: 0.4621 - accuracy: 0.8252\n",
            "Epoch 11/100\n",
            "9/9 [==============================] - 3s 344ms/step - loss: 0.4702 - accuracy: 0.8007\n",
            "Epoch 12/100\n",
            "9/9 [==============================] - 3s 345ms/step - loss: 0.4618 - accuracy: 0.8147\n",
            "Epoch 13/100\n",
            "9/9 [==============================] - 3s 343ms/step - loss: 0.4564 - accuracy: 0.8077\n",
            "Epoch 14/100\n",
            "9/9 [==============================] - 3s 344ms/step - loss: 0.4519 - accuracy: 0.8287\n",
            "Epoch 15/100\n",
            "9/9 [==============================] - 3s 342ms/step - loss: 0.4419 - accuracy: 0.8287\n",
            "Epoch 16/100\n",
            "9/9 [==============================] - 3s 344ms/step - loss: 0.4412 - accuracy: 0.8287\n",
            "Epoch 17/100\n",
            "9/9 [==============================] - 3s 338ms/step - loss: 0.4522 - accuracy: 0.8182\n",
            "Epoch 18/100\n",
            "9/9 [==============================] - 3s 339ms/step - loss: 0.4474 - accuracy: 0.8392\n",
            "Epoch 19/100\n",
            "9/9 [==============================] - 3s 340ms/step - loss: 0.4410 - accuracy: 0.8357\n",
            "Epoch 20/100\n",
            "9/9 [==============================] - 3s 340ms/step - loss: 0.4358 - accuracy: 0.8427\n",
            "Epoch 21/100\n",
            "9/9 [==============================] - 3s 337ms/step - loss: 0.4427 - accuracy: 0.8252\n",
            "Epoch 22/100\n",
            "9/9 [==============================] - 3s 341ms/step - loss: 0.4471 - accuracy: 0.8112\n",
            "Epoch 23/100\n",
            "9/9 [==============================] - 3s 338ms/step - loss: 0.4334 - accuracy: 0.8252\n",
            "Epoch 24/100\n",
            "9/9 [==============================] - 3s 365ms/step - loss: 0.4332 - accuracy: 0.8392\n",
            "Epoch 25/100\n",
            "9/9 [==============================] - 4s 426ms/step - loss: 0.4402 - accuracy: 0.8497\n",
            "Epoch 26/100\n",
            "9/9 [==============================] - 3s 335ms/step - loss: 0.4170 - accuracy: 0.8601\n",
            "Epoch 27/100\n",
            "9/9 [==============================] - 4s 419ms/step - loss: 0.4285 - accuracy: 0.8392\n",
            "Epoch 28/100\n",
            "9/9 [==============================] - 3s 370ms/step - loss: 0.4325 - accuracy: 0.8427\n",
            "Epoch 29/100\n",
            "9/9 [==============================] - 3s 389ms/step - loss: 0.4335 - accuracy: 0.8462\n",
            "Epoch 30/100\n",
            "9/9 [==============================] - 3s 375ms/step - loss: 0.4502 - accuracy: 0.8217\n",
            "Epoch 31/100\n",
            "9/9 [==============================] - 4s 416ms/step - loss: 0.4219 - accuracy: 0.8357\n",
            "Epoch 32/100\n",
            "9/9 [==============================] - 3s 361ms/step - loss: 0.4373 - accuracy: 0.8322\n",
            "Epoch 33/100\n",
            "9/9 [==============================] - 3s 340ms/step - loss: 0.4158 - accuracy: 0.8427\n",
            "Epoch 34/100\n",
            "9/9 [==============================] - 3s 341ms/step - loss: 0.4371 - accuracy: 0.8322\n",
            "Epoch 35/100\n",
            "9/9 [==============================] - 3s 341ms/step - loss: 0.4331 - accuracy: 0.8357\n",
            "Epoch 36/100\n",
            "9/9 [==============================] - 3s 341ms/step - loss: 0.4314 - accuracy: 0.8217\n",
            "Epoch 37/100\n",
            "9/9 [==============================] - 3s 341ms/step - loss: 0.4213 - accuracy: 0.8357\n",
            "Epoch 38/100\n",
            "9/9 [==============================] - 3s 341ms/step - loss: 0.4155 - accuracy: 0.8427\n",
            "Epoch 39/100\n",
            "9/9 [==============================] - 3s 339ms/step - loss: 0.4345 - accuracy: 0.8217\n",
            "Epoch 40/100\n",
            "9/9 [==============================] - 3s 340ms/step - loss: 0.4209 - accuracy: 0.8462\n",
            "Epoch 41/100\n",
            "9/9 [==============================] - 3s 341ms/step - loss: 0.4218 - accuracy: 0.8287\n",
            "Epoch 42/100\n",
            "9/9 [==============================] - 3s 340ms/step - loss: 0.4208 - accuracy: 0.8462\n",
            "Epoch 43/100\n",
            "9/9 [==============================] - 3s 338ms/step - loss: 0.4239 - accuracy: 0.8462\n",
            "Epoch 44/100\n",
            "9/9 [==============================] - 3s 337ms/step - loss: 0.4178 - accuracy: 0.8217\n",
            "Epoch 45/100\n",
            "9/9 [==============================] - 3s 337ms/step - loss: 0.4391 - accuracy: 0.8392\n",
            "Epoch 46/100\n",
            "9/9 [==============================] - 3s 336ms/step - loss: 0.4279 - accuracy: 0.8287\n",
            "Epoch 47/100\n",
            "9/9 [==============================] - 3s 346ms/step - loss: 0.4165 - accuracy: 0.8392\n",
            "Epoch 48/100\n",
            "9/9 [==============================] - 3s 337ms/step - loss: 0.4143 - accuracy: 0.8217\n",
            "Epoch 49/100\n",
            "9/9 [==============================] - 3s 338ms/step - loss: 0.4089 - accuracy: 0.8392\n",
            "Epoch 50/100\n",
            "9/9 [==============================] - 3s 338ms/step - loss: 0.4254 - accuracy: 0.8252\n",
            "Epoch 51/100\n",
            "9/9 [==============================] - 3s 342ms/step - loss: 0.4106 - accuracy: 0.8322\n",
            "Epoch 52/100\n",
            "9/9 [==============================] - 3s 339ms/step - loss: 0.4223 - accuracy: 0.8322\n",
            "Epoch 53/100\n",
            "9/9 [==============================] - 4s 421ms/step - loss: 0.4110 - accuracy: 0.8252\n",
            "Epoch 54/100\n",
            "9/9 [==============================] - 4s 411ms/step - loss: 0.4112 - accuracy: 0.8601\n",
            "Epoch 55/100\n",
            "9/9 [==============================] - 3s 380ms/step - loss: 0.3884 - accuracy: 0.8497\n",
            "Epoch 56/100\n",
            "9/9 [==============================] - 3s 385ms/step - loss: 0.4117 - accuracy: 0.8601\n",
            "Epoch 57/100\n",
            "9/9 [==============================] - 4s 382ms/step - loss: 0.4128 - accuracy: 0.8427\n",
            "Epoch 58/100\n",
            "9/9 [==============================] - 3s 343ms/step - loss: 0.4158 - accuracy: 0.8462\n",
            "Epoch 59/100\n",
            "9/9 [==============================] - 3s 341ms/step - loss: 0.4035 - accuracy: 0.8462\n",
            "Epoch 60/100\n",
            "9/9 [==============================] - 3s 342ms/step - loss: 0.3975 - accuracy: 0.8601\n",
            "Epoch 61/100\n",
            "9/9 [==============================] - 3s 340ms/step - loss: 0.4224 - accuracy: 0.8357\n",
            "Epoch 62/100\n",
            "9/9 [==============================] - 3s 340ms/step - loss: 0.4137 - accuracy: 0.8497\n",
            "Epoch 63/100\n",
            "9/9 [==============================] - 3s 339ms/step - loss: 0.4030 - accuracy: 0.8392\n",
            "Epoch 64/100\n",
            "9/9 [==============================] - 3s 340ms/step - loss: 0.4020 - accuracy: 0.8497\n",
            "Epoch 65/100\n",
            "9/9 [==============================] - 3s 340ms/step - loss: 0.4235 - accuracy: 0.8287\n",
            "Epoch 66/100\n",
            "9/9 [==============================] - 4s 397ms/step - loss: 0.4126 - accuracy: 0.8566\n",
            "Epoch 67/100\n",
            "9/9 [==============================] - 4s 401ms/step - loss: 0.4124 - accuracy: 0.8217\n",
            "Epoch 68/100\n",
            "9/9 [==============================] - 4s 394ms/step - loss: 0.3960 - accuracy: 0.8462\n",
            "Epoch 69/100\n",
            "9/9 [==============================] - 3s 343ms/step - loss: 0.4123 - accuracy: 0.8147\n",
            "Epoch 70/100\n",
            "9/9 [==============================] - 3s 341ms/step - loss: 0.3969 - accuracy: 0.8531\n",
            "Epoch 71/100\n",
            "9/9 [==============================] - 3s 340ms/step - loss: 0.3952 - accuracy: 0.8427\n",
            "Epoch 72/100\n",
            "9/9 [==============================] - 4s 411ms/step - loss: 0.4013 - accuracy: 0.8531\n",
            "Epoch 73/100\n",
            "9/9 [==============================] - 3s 339ms/step - loss: 0.4004 - accuracy: 0.8462\n",
            "Epoch 74/100\n",
            "9/9 [==============================] - 3s 338ms/step - loss: 0.4014 - accuracy: 0.8392\n",
            "Epoch 75/100\n",
            "9/9 [==============================] - 3s 339ms/step - loss: 0.3963 - accuracy: 0.8462\n",
            "Epoch 76/100\n",
            "9/9 [==============================] - 3s 337ms/step - loss: 0.4072 - accuracy: 0.8427\n",
            "Epoch 77/100\n",
            "9/9 [==============================] - 3s 339ms/step - loss: 0.3948 - accuracy: 0.8497\n",
            "Epoch 78/100\n",
            "9/9 [==============================] - 3s 337ms/step - loss: 0.3986 - accuracy: 0.8566\n",
            "Epoch 79/100\n",
            "9/9 [==============================] - 3s 376ms/step - loss: 0.3856 - accuracy: 0.8531\n",
            "Epoch 80/100\n",
            "9/9 [==============================] - 4s 411ms/step - loss: 0.3884 - accuracy: 0.8566\n",
            "Epoch 81/100\n",
            "9/9 [==============================] - 3s 363ms/step - loss: 0.3815 - accuracy: 0.8497\n",
            "Epoch 82/100\n",
            "9/9 [==============================] - 3s 379ms/step - loss: 0.3993 - accuracy: 0.8531\n",
            "Epoch 83/100\n",
            "9/9 [==============================] - 4s 411ms/step - loss: 0.3781 - accuracy: 0.8566\n",
            "Epoch 84/100\n",
            "9/9 [==============================] - 4s 418ms/step - loss: 0.3816 - accuracy: 0.8706\n",
            "Epoch 85/100\n",
            "9/9 [==============================] - 4s 427ms/step - loss: 0.3916 - accuracy: 0.8287\n",
            "Epoch 86/100\n",
            "9/9 [==============================] - 4s 409ms/step - loss: 0.3889 - accuracy: 0.8566\n",
            "Epoch 87/100\n",
            "9/9 [==============================] - 4s 424ms/step - loss: 0.3968 - accuracy: 0.8531\n",
            "Epoch 88/100\n",
            "9/9 [==============================] - 4s 416ms/step - loss: 0.3900 - accuracy: 0.8706\n",
            "Epoch 89/100\n",
            "9/9 [==============================] - 3s 341ms/step - loss: 0.3946 - accuracy: 0.8427\n",
            "Epoch 90/100\n",
            "9/9 [==============================] - 3s 344ms/step - loss: 0.3793 - accuracy: 0.8497\n",
            "Epoch 91/100\n",
            "9/9 [==============================] - 4s 397ms/step - loss: 0.3827 - accuracy: 0.8497\n",
            "Epoch 92/100\n",
            "9/9 [==============================] - 3s 341ms/step - loss: 0.3891 - accuracy: 0.8566\n",
            "Epoch 93/100\n",
            "9/9 [==============================] - 3s 340ms/step - loss: 0.3964 - accuracy: 0.8531\n",
            "Epoch 94/100\n",
            "9/9 [==============================] - 3s 340ms/step - loss: 0.3893 - accuracy: 0.8601\n",
            "Epoch 95/100\n",
            "9/9 [==============================] - 3s 340ms/step - loss: 0.3946 - accuracy: 0.8392\n",
            "Epoch 96/100\n",
            "9/9 [==============================] - 3s 340ms/step - loss: 0.4121 - accuracy: 0.8217\n",
            "Epoch 97/100\n",
            "9/9 [==============================] - 3s 342ms/step - loss: 0.3862 - accuracy: 0.8497\n",
            "Epoch 98/100\n",
            "9/9 [==============================] - 3s 343ms/step - loss: 0.3917 - accuracy: 0.8462\n",
            "Epoch 99/100\n",
            "9/9 [==============================] - 3s 345ms/step - loss: 0.3775 - accuracy: 0.8601\n",
            "Epoch 100/100\n",
            "9/9 [==============================] - 3s 343ms/step - loss: 0.3857 - accuracy: 0.8601\n"
          ]
        },
        {
          "output_type": "execute_result",
          "data": {
            "text/plain": [
              "<keras.callbacks.History at 0x7efda3a9c450>"
            ]
          },
          "metadata": {},
          "execution_count": 62
        }
      ]
    },
    {
      "cell_type": "code",
      "source": [
        "y_under_predict = model_under.predict(x_under_test)"
      ],
      "metadata": {
        "id": "QFdh1ZTiVu3p"
      },
      "execution_count": null,
      "outputs": []
    },
    {
      "cell_type": "code",
      "source": [
        "test_under = [[x] for x in y_under_test]"
      ],
      "metadata": {
        "id": "-XXJWrI7WE8w"
      },
      "execution_count": null,
      "outputs": []
    },
    {
      "cell_type": "code",
      "source": [
        "y_under_preds = np.round(y_under_predict)\n",
        "print(classification_report(test_under , y_under_preds))\n",
        "print(confusion_matrix(test_under , y_under_preds))"
      ],
      "metadata": {
        "colab": {
          "base_uri": "https://localhost:8080/"
        },
        "id": "HId5X3s_WPle",
        "outputId": "1b43b0b5-4c9e-43bb-ea99-80f817202149"
      },
      "execution_count": null,
      "outputs": [
        {
          "output_type": "stream",
          "name": "stdout",
          "text": [
            "              precision    recall  f1-score   support\n",
            "\n",
            "         0.0       0.81      0.69      0.75        36\n",
            "         1.0       0.73      0.83      0.78        36\n",
            "\n",
            "    accuracy                           0.76        72\n",
            "   macro avg       0.77      0.76      0.76        72\n",
            "weighted avg       0.77      0.76      0.76        72\n",
            "\n",
            "[[25 11]\n",
            " [ 6 30]]\n"
          ]
        }
      ]
    },
    {
      "cell_type": "code",
      "source": [
        "joblib.dump(model_under,'/content/drive/MyDrive/Ugp_1/under_sample_model' )"
      ],
      "metadata": {
        "colab": {
          "base_uri": "https://localhost:8080/"
        },
        "id": "tjxuSoLSXwa3",
        "outputId": "6ea18d29-7734-4b58-89a1-2dadad9af39c"
      },
      "execution_count": null,
      "outputs": [
        {
          "output_type": "stream",
          "name": "stderr",
          "text": [
            "WARNING:absl:Found untraced functions such as restored_function_body, restored_function_body, restored_function_body, restored_function_body, restored_function_body while saving (showing 5 of 366). These functions will not be directly callable after loading.\n"
          ]
        },
        {
          "output_type": "stream",
          "name": "stdout",
          "text": [
            "INFO:tensorflow:Assets written to: ram://6eadd62e-34f6-4ed3-bdad-043a8603c07f/assets\n"
          ]
        },
        {
          "output_type": "stream",
          "name": "stderr",
          "text": [
            "INFO:tensorflow:Assets written to: ram://6eadd62e-34f6-4ed3-bdad-043a8603c07f/assets\n"
          ]
        },
        {
          "output_type": "execute_result",
          "data": {
            "text/plain": [
              "['/content/drive/MyDrive/Ugp_1/under_sample_model']"
            ]
          },
          "metadata": {},
          "execution_count": 68
        }
      ]
    },
    {
      "cell_type": "markdown",
      "source": [
        "Oversampling by duplication starts here ...............................................\n",
        "\n",
        "---\n",
        "\n"
      ],
      "metadata": {
        "id": "Ahv7ReuLYW59"
      }
    },
    {
      "cell_type": "code",
      "source": [
        "df_class_1_over = df_class_1.sample(count_class_0 , replace = True)\n",
        "df_class_1_over.shape"
      ],
      "metadata": {
        "colab": {
          "base_uri": "https://localhost:8080/"
        },
        "id": "c01s8R7TyF4J",
        "outputId": "ed20ebd2-6902-4732-a9d5-db13d264ec55"
      },
      "execution_count": 10,
      "outputs": [
        {
          "output_type": "execute_result",
          "data": {
            "text/plain": [
              "(4653, 2)"
            ]
          },
          "metadata": {},
          "execution_count": 10
        }
      ]
    },
    {
      "cell_type": "code",
      "source": [
        "count_class_1"
      ],
      "metadata": {
        "colab": {
          "base_uri": "https://localhost:8080/"
        },
        "id": "vyu26SwUPV0J",
        "outputId": "0bdd93cb-dec0-4491-9d7c-f10bbd67372d"
      },
      "execution_count": 11,
      "outputs": [
        {
          "output_type": "execute_result",
          "data": {
            "text/plain": [
              "577"
            ]
          },
          "metadata": {},
          "execution_count": 11
        }
      ]
    },
    {
      "cell_type": "code",
      "source": [
        "df_dup = pd.concat([df_class_0 , df_class_1_over] , axis = 0 , ignore_index = True)\n",
        "df_dup.shape"
      ],
      "metadata": {
        "colab": {
          "base_uri": "https://localhost:8080/"
        },
        "id": "-csB-wwF1WcE",
        "outputId": "b9e345e1-080a-4a09-e915-56d6a478c457"
      },
      "execution_count": 12,
      "outputs": [
        {
          "output_type": "execute_result",
          "data": {
            "text/plain": [
              "(9306, 2)"
            ]
          },
          "metadata": {},
          "execution_count": 12
        }
      ]
    },
    {
      "cell_type": "code",
      "source": [
        "x =df_dup.Paragraph\n",
        "y = df_dup.Classifier.astype(np.float32) "
      ],
      "metadata": {
        "id": "TGQBWFxcge2X"
      },
      "execution_count": 13,
      "outputs": []
    },
    {
      "cell_type": "code",
      "source": [
        "from sklearn.model_selection import train_test_split\n",
        "x_train , x_test , y_train , y_test = train_test_split(x , y , test_size = 0.4, stratify = df_dup.Classifier )\n",
        "len(x_test)/len(x_train)"
      ],
      "metadata": {
        "colab": {
          "base_uri": "https://localhost:8080/"
        },
        "id": "Pg0Evoel1-oa",
        "outputId": "5a223cc0-8cf3-4250-bdba-56b12fad55d9"
      },
      "execution_count": 14,
      "outputs": [
        {
          "output_type": "execute_result",
          "data": {
            "text/plain": [
              "0.6668457818377217"
            ]
          },
          "metadata": {},
          "execution_count": 14
        }
      ]
    },
    {
      "cell_type": "code",
      "source": [
        "y_train.value_counts()"
      ],
      "metadata": {
        "colab": {
          "base_uri": "https://localhost:8080/"
        },
        "id": "SzbQhcg_2lgZ",
        "outputId": "92c8b06e-3b18-4e0e-be0b-62cc50fc4093"
      },
      "execution_count": 15,
      "outputs": [
        {
          "output_type": "execute_result",
          "data": {
            "text/plain": [
              "0.0    2792\n",
              "1.0    2791\n",
              "Name: Classifier, dtype: int64"
            ]
          },
          "metadata": {},
          "execution_count": 15
        }
      ]
    },
    {
      "cell_type": "code",
      "source": [
        "text_input = tf.keras.layers.Input(shape=(), dtype=tf.string, name='text')\n",
        "preprocessed_text = preprocess_model(text_input)\n",
        "outputs = bert_model(preprocessed_text)"
      ],
      "metadata": {
        "id": "FkDfcFf321Ko"
      },
      "execution_count": null,
      "outputs": []
    },
    {
      "cell_type": "code",
      "source": [
        "l = tf.keras.layers.Dropout(0.1, name=\"dropout\")(outputs['pooled_output'])\n",
        "l = tf.keras.layers.Dense(1, activation='sigmoid', name=\"output\")(l)"
      ],
      "metadata": {
        "id": "G18v3KTw3OpT"
      },
      "execution_count": null,
      "outputs": []
    },
    {
      "cell_type": "code",
      "source": [
        "model = tf.keras.Model(inputs=[text_input], outputs = [l])\n",
        "model.summary()"
      ],
      "metadata": {
        "colab": {
          "base_uri": "https://localhost:8080/"
        },
        "id": "GQIx3LGU3WnK",
        "outputId": "b8fefa35-6e64-4c2b-83b3-067d6acb5752"
      },
      "execution_count": null,
      "outputs": [
        {
          "output_type": "stream",
          "name": "stdout",
          "text": [
            "Model: \"model\"\n",
            "__________________________________________________________________________________________________\n",
            " Layer (type)                   Output Shape         Param #     Connected to                     \n",
            "==================================================================================================\n",
            " text (InputLayer)              [(None,)]            0           []                               \n",
            "                                                                                                  \n",
            " keras_layer (KerasLayer)       {'input_mask': (Non  0           ['text[0][0]']                   \n",
            "                                e, 128),                                                          \n",
            "                                 'input_word_ids':                                                \n",
            "                                (None, 128),                                                      \n",
            "                                 'input_type_ids':                                                \n",
            "                                (None, 128)}                                                      \n",
            "                                                                                                  \n",
            " keras_layer_1 (KerasLayer)     {'sequence_output':  109482241   ['keras_layer[1][0]',            \n",
            "                                 (None, 128, 768),                'keras_layer[1][1]',            \n",
            "                                 'pooled_output': (               'keras_layer[1][2]']            \n",
            "                                None, 768),                                                       \n",
            "                                 'encoder_outputs':                                               \n",
            "                                 [(None, 128, 768),                                               \n",
            "                                 (None, 128, 768),                                                \n",
            "                                 (None, 128, 768),                                                \n",
            "                                 (None, 128, 768),                                                \n",
            "                                 (None, 128, 768),                                                \n",
            "                                 (None, 128, 768),                                                \n",
            "                                 (None, 128, 768),                                                \n",
            "                                 (None, 128, 768),                                                \n",
            "                                 (None, 128, 768),                                                \n",
            "                                 (None, 128, 768),                                                \n",
            "                                 (None, 128, 768),                                                \n",
            "                                 (None, 128, 768)],                                               \n",
            "                                 'default': (None,                                                \n",
            "                                768)}                                                             \n",
            "                                                                                                  \n",
            " dropout (Dropout)              (None, 768)          0           ['keras_layer_1[1][13]']         \n",
            "                                                                                                  \n",
            " output (Dense)                 (None, 1)            769         ['dropout[0][0]']                \n",
            "                                                                                                  \n",
            "==================================================================================================\n",
            "Total params: 109,483,010\n",
            "Trainable params: 769\n",
            "Non-trainable params: 109,482,241\n",
            "__________________________________________________________________________________________________\n"
          ]
        }
      ]
    },
    {
      "cell_type": "code",
      "source": [
        "model.compile(optimizer='adam',\n",
        "              loss='binary_crossentropy',\n",
        "              metrics=['accuracy'])"
      ],
      "metadata": {
        "id": "wg5a3yDz3drq"
      },
      "execution_count": null,
      "outputs": []
    },
    {
      "cell_type": "code",
      "source": [
        "model.fit(x_train, y_train, epochs=60)"
      ],
      "metadata": {
        "id": "YUeBWKhc3gl0"
      },
      "execution_count": null,
      "outputs": []
    },
    {
      "cell_type": "markdown",
      "source": [],
      "metadata": {
        "id": "eqP60ulli-6e"
      }
    },
    {
      "cell_type": "markdown",
      "source": [
        "\n",
        "\n",
        "```\n",
        "for Epoch = 20 Acuuracy = 0.8694\n",
        "\n",
        "\n",
        "\n",
        "\n",
        "```\n",
        "\n"
      ],
      "metadata": {
        "id": "ouMjSLUojBQc"
      }
    },
    {
      "cell_type": "code",
      "source": [
        "y_predict = model.predict(x_test)\n"
      ],
      "metadata": {
        "id": "CCf85BAGCDHy"
      },
      "execution_count": null,
      "outputs": []
    },
    {
      "cell_type": "code",
      "source": [
        "y_test.value_counts()"
      ],
      "metadata": {
        "colab": {
          "base_uri": "https://localhost:8080/"
        },
        "id": "JMFHBSNqIUwy",
        "outputId": "0ca88605-c313-4ea0-e30e-e18779aa8583"
      },
      "execution_count": 17,
      "outputs": [
        {
          "output_type": "execute_result",
          "data": {
            "text/plain": [
              "1.0    1862\n",
              "0.0    1861\n",
              "Name: Classifier, dtype: int64"
            ]
          },
          "metadata": {},
          "execution_count": 17
        }
      ]
    },
    {
      "cell_type": "code",
      "source": [
        "test = [[x] for x in y_test]\n"
      ],
      "metadata": {
        "id": "2v869fOxCKUV"
      },
      "execution_count": 18,
      "outputs": []
    },
    {
      "cell_type": "code",
      "source": [
        "import numpy as np\n",
        "y_preds = np.round(y_predict)\n",
        "print(classification_report(test , y_preds))\n",
        "print(confusion_matrix(test , y_preds))"
      ],
      "metadata": {
        "colab": {
          "base_uri": "https://localhost:8080/"
        },
        "id": "QxjekZdvHDVA",
        "outputId": "f5f51097-2ba8-458f-cbdf-433866de11d1"
      },
      "execution_count": null,
      "outputs": [
        {
          "output_type": "stream",
          "name": "stdout",
          "text": [
            "              precision    recall  f1-score   support\n",
            "\n",
            "         0.0       0.95      0.92      0.93       931\n",
            "         1.0       0.92      0.95      0.94       931\n",
            "\n",
            "    accuracy                           0.93      1862\n",
            "   macro avg       0.93      0.93      0.93      1862\n",
            "weighted avg       0.93      0.93      0.93      1862\n",
            "\n",
            "[[854  77]\n",
            " [ 45 886]]\n"
          ]
        }
      ]
    },
    {
      "cell_type": "code",
      "source": [
        "joblib.dump(model,'/content/drive/MyDrive/Ugp_1/over_sample_model_4' )"
      ],
      "metadata": {
        "id": "34PPfe7kFYh0"
      },
      "execution_count": null,
      "outputs": []
    },
    {
      "cell_type": "code",
      "source": [
        "model = joblib.load('/content/drive/MyDrive/Ugp_1/over_sample_model_4')"
      ],
      "metadata": {
        "id": "dpELqPgqFu16"
      },
      "execution_count": 4,
      "outputs": []
    },
    {
      "cell_type": "code",
      "source": [
        "yjob_predict = model.predict(x_test)"
      ],
      "metadata": {
        "id": "EI5Bbr5WJYGc"
      },
      "execution_count": 16,
      "outputs": []
    },
    {
      "cell_type": "code",
      "source": [
        "import numpy as np\n",
        "y_preds = np.round(yjob_predict)\n",
        "print(classification_report(test , y_preds))\n",
        "print(confusion_matrix(test , y_preds))"
      ],
      "metadata": {
        "colab": {
          "base_uri": "https://localhost:8080/"
        },
        "id": "buTOAOK6F5DO",
        "outputId": "1065123a-6388-4741-fd38-62813a71ce98"
      },
      "execution_count": 19,
      "outputs": [
        {
          "output_type": "stream",
          "name": "stdout",
          "text": [
            "              precision    recall  f1-score   support\n",
            "\n",
            "         0.0       0.94      0.92      0.93      1861\n",
            "         1.0       0.92      0.94      0.93      1862\n",
            "\n",
            "    accuracy                           0.93      3723\n",
            "   macro avg       0.93      0.93      0.93      3723\n",
            "weighted avg       0.93      0.93      0.93      3723\n",
            "\n",
            "[[1708  153]\n",
            " [ 114 1748]]\n"
          ]
        }
      ]
    },
    {
      "cell_type": "code",
      "source": [
        "cm = confusion_matrix(test , y_preds)"
      ],
      "metadata": {
        "id": "ePe3zUh9qFT7"
      },
      "execution_count": 20,
      "outputs": []
    },
    {
      "cell_type": "code",
      "source": [
        "import seaborn as sn \n",
        "from matplotlib import pyplot as plt\n",
        "plt.figure(figsize = (10,7))\n",
        "sn.heatmap(cm , annot = True)\n",
        "plt.xlabel('Predicted')\n",
        "plt.ylabel('Actual')"
      ],
      "metadata": {
        "id": "wECMlz0yF2A9",
        "colab": {
          "base_uri": "https://localhost:8080/",
          "height": 459
        },
        "outputId": "44e07e10-f1f5-4f53-fd49-60b0f23e1ad6"
      },
      "execution_count": 21,
      "outputs": [
        {
          "output_type": "execute_result",
          "data": {
            "text/plain": [
              "Text(69.0, 0.5, 'Actual')"
            ]
          },
          "metadata": {},
          "execution_count": 21
        },
        {
          "output_type": "display_data",
          "data": {
            "text/plain": [
              "<Figure size 720x504 with 2 Axes>"
            ],
            "image/png": "[encoded data removed]"
          },
          "metadata": {
            "needs_background": "light"
          }
        }
      ]
    },
    {
      "cell_type": "code",
      "source": [
        "df5 = pd.read_csv('/content/combo_only_para.csv')\n",
        "df5.head()"
      ],
      "metadata": {
        "colab": {
          "base_uri": "https://localhost:8080/",
          "height": 206
        },
        "id": "npy6KjIDJWZ4",
        "outputId": "3b2e2c5c-eea1-4ae6-a206-6a5fc23afa9d"
      },
      "execution_count": 22,
      "outputs": [
        {
          "output_type": "execute_result",
          "data": {
            "text/plain": [
              "                                           Paragraph\n",
              "0  BiFeO3 (BFO) is under intense investigation be...\n",
              "1  The SLs were grown by pulsed laser deposition ...\n",
              "2  Table 1below presents the characteristics of t...\n",
              "3  Fig. 1presents the X-ray diffraction pattern i...\n",
              "4  In order to get access to the out of plane lat..."
            ],
            "text/html": [
              "\n",
              "  <div id=\"df-f0afd10d-f31b-437b-9177-306fdca62236\">\n",
              "    <div class=\"colab-df-container\">\n",
              "      <div>\n",
              "<style scoped>\n",
              "    .dataframe tbody tr th:only-of-type {\n",
              "        vertical-align: middle;\n",
              "    }\n",
              "\n",
              "    .dataframe tbody tr th {\n",
              "        vertical-align: top;\n",
              "    }\n",
              "\n",
              "    .dataframe thead th {\n",
              "        text-align: right;\n",
              "    }\n",
              "</style>\n",
              "<table border=\"1\" class=\"dataframe\">\n",
              "  <thead>\n",
              "    <tr style=\"text-align: right;\">\n",
              "      <th></th>\n",
              "      <th>Paragraph</th>\n",
              "    </tr>\n",
              "  </thead>\n",
              "  <tbody>\n",
              "    <tr>\n",
              "      <th>0</th>\n",
              "      <td>BiFeO3 (BFO) is under intense investigation be...</td>\n",
              "    </tr>\n",
              "    <tr>\n",
              "      <th>1</th>\n",
              "      <td>The SLs were grown by pulsed laser deposition ...</td>\n",
              "    </tr>\n",
              "    <tr>\n",
              "      <th>2</th>\n",
              "      <td>Table 1below presents the characteristics of t...</td>\n",
              "    </tr>\n",
              "    <tr>\n",
              "      <th>3</th>\n",
              "      <td>Fig. 1presents the X-ray diffraction pattern i...</td>\n",
              "    </tr>\n",
              "    <tr>\n",
              "      <th>4</th>\n",
              "      <td>In order to get access to the out of plane lat...</td>\n",
              "    </tr>\n",
              "  </tbody>\n",
              "</table>\n",
              "</div>\n",
              "      <button class=\"colab-df-convert\" onclick=\"convertToInteractive('df-f0afd10d-f31b-437b-9177-306fdca62236')\"\n",
              "              title=\"Convert this dataframe to an interactive table.\"\n",
              "              style=\"display:none;\">\n",
              "        \n",
              "  <svg xmlns=\"http://www.w3.org/2000/svg\" height=\"24px\"viewBox=\"0 0 24 24\"\n",
              "       width=\"24px\">\n",
              "    <path d=\"M0 0h24v24H0V0z\" fill=\"none\"/>\n",
              "    <path d=\"M18.56 5.44l.94 2.06.94-2.06 2.06-.94-2.06-.94-.94-2.06-.94 2.06-2.06.94zm-11 1L8.5 8.5l.94-2.06 2.06-.94-2.06-.94L8.5 2.5l-.94 2.06-2.06.94zm10 10l.94 2.06.94-2.06 2.06-.94-2.06-.94-.94-2.06-.94 2.06-2.06.94z\"/><path d=\"M17.41 7.96l-1.37-1.37c-.4-.4-.92-.59-1.43-.59-.52 0-1.04.2-1.43.59L10.3 9.45l-7.72 7.72c-.78.78-.78 2.05 0 2.83L4 21.41c.39.39.9.59 1.41.59.51 0 1.02-.2 1.41-.59l7.78-7.78 2.81-2.81c.8-.78.8-2.07 0-2.86zM5.41 20L4 18.59l7.72-7.72 1.47 1.35L5.41 20z\"/>\n",
              "  </svg>\n",
              "      </button>\n",
              "      \n",
              "  <style>\n",
              "    .colab-df-container {\n",
              "      display:flex;\n",
              "      flex-wrap:wrap;\n",
              "      gap: 12px;\n",
              "    }\n",
              "\n",
              "    .colab-df-convert {\n",
              "      background-color: #E8F0FE;\n",
              "      border: none;\n",
              "      border-radius: 50%;\n",
              "      cursor: pointer;\n",
              "      display: none;\n",
              "      fill: #1967D2;\n",
              "      height: 32px;\n",
              "      padding: 0 0 0 0;\n",
              "      width: 32px;\n",
              "    }\n",
              "\n",
              "    .colab-df-convert:hover {\n",
              "      background-color: #E2EBFA;\n",
              "      box-shadow: 0px 1px 2px rgba(60, 64, 67, 0.3), 0px 1px 3px 1px rgba(60, 64, 67, 0.15);\n",
              "      fill: #174EA6;\n",
              "    }\n",
              "\n",
              "    [theme=dark] .colab-df-convert {\n",
              "      background-color: #3B4455;\n",
              "      fill: #D2E3FC;\n",
              "    }\n",
              "\n",
              "    [theme=dark] .colab-df-convert:hover {\n",
              "      background-color: #434B5C;\n",
              "      box-shadow: 0px 1px 3px 1px rgba(0, 0, 0, 0.15);\n",
              "      filter: drop-shadow(0px 1px 2px rgba(0, 0, 0, 0.3));\n",
              "      fill: #FFFFFF;\n",
              "    }\n",
              "  </style>\n",
              "\n",
              "      <script>\n",
              "        const buttonEl =\n",
              "          document.querySelector('#df-f0afd10d-f31b-437b-9177-306fdca62236 button.colab-df-convert');\n",
              "        buttonEl.style.display =\n",
              "          google.colab.kernel.accessAllowed ? 'block' : 'none';\n",
              "\n",
              "        async function convertToInteractive(key) {\n",
              "          const element = document.querySelector('#df-f0afd10d-f31b-437b-9177-306fdca62236');\n",
              "          const dataTable =\n",
              "            await google.colab.kernel.invokeFunction('convertToInteractive',\n",
              "                                                     [key], {});\n",
              "          if (!dataTable) return;\n",
              "\n",
              "          const docLinkHtml = 'Like what you see? Visit the ' +\n",
              "            '<a target=\"_blank\" href=https://colab.research.google.com/notebooks/data_table.ipynb>data table notebook</a>'\n",
              "            + ' to learn more about interactive tables.';\n",
              "          element.innerHTML = '';\n",
              "          dataTable['output_type'] = 'display_data';\n",
              "          await google.colab.output.renderOutput(dataTable, element);\n",
              "          const docLink = document.createElement('div');\n",
              "          docLink.innerHTML = docLinkHtml;\n",
              "          element.appendChild(docLink);\n",
              "        }\n",
              "      </script>\n",
              "    </div>\n",
              "  </div>\n",
              "  "
            ]
          },
          "metadata": {},
          "execution_count": 22
        }
      ]
    },
    {
      "cell_type": "code",
      "source": [
        "para = [item for item in df5['Paragraph']]\n",
        "len(para) # it is the input of paragraphs for prediction"
      ],
      "metadata": {
        "colab": {
          "base_uri": "https://localhost:8080/"
        },
        "id": "FBpYOsBLJogR",
        "outputId": "a15d6c6b-a74e-4321-bb75-1114cc72cd5a"
      },
      "execution_count": 23,
      "outputs": [
        {
          "output_type": "execute_result",
          "data": {
            "text/plain": [
              "163228"
            ]
          },
          "metadata": {},
          "execution_count": 23
        }
      ]
    },
    {
      "cell_type": "code",
      "source": [
        "type(para[100])"
      ],
      "metadata": {
        "colab": {
          "base_uri": "https://localhost:8080/"
        },
        "id": "dNZ6mJt-TWkC",
        "outputId": "26f365d3-e9f0-4a50-9829-36e08c39d963"
      },
      "execution_count": 24,
      "outputs": [
        {
          "output_type": "execute_result",
          "data": {
            "text/plain": [
              "str"
            ]
          },
          "metadata": {},
          "execution_count": 24
        }
      ]
    },
    {
      "cell_type": "code",
      "source": [
        "model.predict([para[0]])"
      ],
      "metadata": {
        "colab": {
          "base_uri": "https://localhost:8080/"
        },
        "id": "-xr7owDLOaE2",
        "outputId": "70ac4245-e690-44b1-f0a2-a38c64db4c0a"
      },
      "execution_count": 25,
      "outputs": [
        {
          "output_type": "execute_result",
          "data": {
            "text/plain": [
              "array([[0.05052511]], dtype=float32)"
            ]
          },
          "metadata": {},
          "execution_count": 25
        }
      ]
    },
    {
      "cell_type": "code",
      "source": [
        "i =0\n",
        "j = 163228\n",
        "list = []\n",
        "for idx in range(i, j):\n",
        "  try:\n",
        "    d= model.predict([para[idx]])\n",
        "    if d[0][0]>0.7:\n",
        "      list.append([idx,para[idx]])\n",
        "      print(idx , \"  \", d[0][0])\n",
        "      \n",
        "    \n",
        "  except:\n",
        "    continue\n",
        "  \n"
      ],
      "metadata": {
        "id": "mxM6XOeIIjvB"
      },
      "execution_count": null,
      "outputs": []
    },
    {
      "cell_type": "code",
      "source": [
        "len(list) # it is the final extraction out of 163k paragraphs"
      ],
      "metadata": {
        "colab": {
          "base_uri": "https://localhost:8080/"
        },
        "id": "pKW8UpnS5KOm",
        "outputId": "12654bb5-5f04-45d3-a0d7-d67ba4889581"
      },
      "execution_count": 27,
      "outputs": [
        {
          "output_type": "execute_result",
          "data": {
            "text/plain": [
              "8811"
            ]
          },
          "metadata": {},
          "execution_count": 27
        }
      ]
    },
    {
      "cell_type": "code",
      "source": [
        "i =0\n",
        "j = 2000\n",
        "list2 = []\n",
        "for idx in range(i, j):\n",
        "  try:\n",
        "    d= model.predict([para[idx]])\n",
        "    if d[0][0]>0.8:           # only choosing those having probality > 0.8\n",
        "      list2.append([idx,para[idx]])\n",
        "      print(idx , \"  \", d[0][0])\n",
        "      \n",
        "    \n",
        "  except:\n",
        "    continue"
      ],
      "metadata": {
        "colab": {
          "base_uri": "https://localhost:8080/"
        },
        "id": "GFOwtiTH_XFI",
        "outputId": "a0e52fd4-4118-451a-88a6-135102e2469f"
      },
      "execution_count": null,
      "outputs": [
        {
          "output_type": "stream",
          "name": "stdout",
          "text": [
            "415    0.8019271\n",
            "486    0.80982906\n",
            "779    0.8041742\n",
            "780    0.83008397\n",
            "782    0.83156174\n",
            "1613    0.8048578\n",
            "1862    0.81102675\n",
            "1865    0.83125734\n"
          ]
        }
      ]
    },
    {
      "cell_type": "code",
      "source": [
        "df_7 = pd.DataFrame(list)\n",
        "df_7.rename(columns = {0:'index', 1:'Paragraph'}, inplace = True)\n",
        "df_7.head()\n"
      ],
      "metadata": {
        "id": "MMS0_fMeLYaO",
        "colab": {
          "base_uri": "https://localhost:8080/",
          "height": 206
        },
        "outputId": "0769943c-a561-4076-ee3d-155e55e28068"
      },
      "execution_count": 28,
      "outputs": [
        {
          "output_type": "execute_result",
          "data": {
            "text/plain": [
              "   index                                          Paragraph\n",
              "0      1  The SLs were grown by pulsed laser deposition ...\n",
              "1     22  Thin films of w-BN are grown by pulsed laser d...\n",
              "2     42  Interconnected ZnO core/shell nanorods were gr...\n",
              "3     43  Before deposition, the substrates were heated ...\n",
              "4     58  SrHA nanocrystals were synthesized in N2 atmos..."
            ],
            "text/html": [
              "\n",
              "  <div id=\"df-63479a12-4920-4b8b-b8fc-15f6610b6039\">\n",
              "    <div class=\"colab-df-container\">\n",
              "      <div>\n",
              "<style scoped>\n",
              "    .dataframe tbody tr th:only-of-type {\n",
              "        vertical-align: middle;\n",
              "    }\n",
              "\n",
              "    .dataframe tbody tr th {\n",
              "        vertical-align: top;\n",
              "    }\n",
              "\n",
              "    .dataframe thead th {\n",
              "        text-align: right;\n",
              "    }\n",
              "</style>\n",
              "<table border=\"1\" class=\"dataframe\">\n",
              "  <thead>\n",
              "    <tr style=\"text-align: right;\">\n",
              "      <th></th>\n",
              "      <th>index</th>\n",
              "      <th>Paragraph</th>\n",
              "    </tr>\n",
              "  </thead>\n",
              "  <tbody>\n",
              "    <tr>\n",
              "      <th>0</th>\n",
              "      <td>1</td>\n",
              "      <td>The SLs were grown by pulsed laser deposition ...</td>\n",
              "    </tr>\n",
              "    <tr>\n",
              "      <th>1</th>\n",
              "      <td>22</td>\n",
              "      <td>Thin films of w-BN are grown by pulsed laser d...</td>\n",
              "    </tr>\n",
              "    <tr>\n",
              "      <th>2</th>\n",
              "      <td>42</td>\n",
              "      <td>Interconnected ZnO core/shell nanorods were gr...</td>\n",
              "    </tr>\n",
              "    <tr>\n",
              "      <th>3</th>\n",
              "      <td>43</td>\n",
              "      <td>Before deposition, the substrates were heated ...</td>\n",
              "    </tr>\n",
              "    <tr>\n",
              "      <th>4</th>\n",
              "      <td>58</td>\n",
              "      <td>SrHA nanocrystals were synthesized in N2 atmos...</td>\n",
              "    </tr>\n",
              "  </tbody>\n",
              "</table>\n",
              "</div>\n",
              "      <button class=\"colab-df-convert\" onclick=\"convertToInteractive('df-63479a12-4920-4b8b-b8fc-15f6610b6039')\"\n",
              "              title=\"Convert this dataframe to an interactive table.\"\n",
              "              style=\"display:none;\">\n",
              "        \n",
              "  <svg xmlns=\"http://www.w3.org/2000/svg\" height=\"24px\"viewBox=\"0 0 24 24\"\n",
              "       width=\"24px\">\n",
              "    <path d=\"M0 0h24v24H0V0z\" fill=\"none\"/>\n",
              "    <path d=\"M18.56 5.44l.94 2.06.94-2.06 2.06-.94-2.06-.94-.94-2.06-.94 2.06-2.06.94zm-11 1L8.5 8.5l.94-2.06 2.06-.94-2.06-.94L8.5 2.5l-.94 2.06-2.06.94zm10 10l.94 2.06.94-2.06 2.06-.94-2.06-.94-.94-2.06-.94 2.06-2.06.94z\"/><path d=\"M17.41 7.96l-1.37-1.37c-.4-.4-.92-.59-1.43-.59-.52 0-1.04.2-1.43.59L10.3 9.45l-7.72 7.72c-.78.78-.78 2.05 0 2.83L4 21.41c.39.39.9.59 1.41.59.51 0 1.02-.2 1.41-.59l7.78-7.78 2.81-2.81c.8-.78.8-2.07 0-2.86zM5.41 20L4 18.59l7.72-7.72 1.47 1.35L5.41 20z\"/>\n",
              "  </svg>\n",
              "      </button>\n",
              "      \n",
              "  <style>\n",
              "    .colab-df-container {\n",
              "      display:flex;\n",
              "      flex-wrap:wrap;\n",
              "      gap: 12px;\n",
              "    }\n",
              "\n",
              "    .colab-df-convert {\n",
              "      background-color: #E8F0FE;\n",
              "      border: none;\n",
              "      border-radius: 50%;\n",
              "      cursor: pointer;\n",
              "      display: none;\n",
              "      fill: #1967D2;\n",
              "      height: 32px;\n",
              "      padding: 0 0 0 0;\n",
              "      width: 32px;\n",
              "    }\n",
              "\n",
              "    .colab-df-convert:hover {\n",
              "      background-color: #E2EBFA;\n",
              "      box-shadow: 0px 1px 2px rgba(60, 64, 67, 0.3), 0px 1px 3px 1px rgba(60, 64, 67, 0.15);\n",
              "      fill: #174EA6;\n",
              "    }\n",
              "\n",
              "    [theme=dark] .colab-df-convert {\n",
              "      background-color: #3B4455;\n",
              "      fill: #D2E3FC;\n",
              "    }\n",
              "\n",
              "    [theme=dark] .colab-df-convert:hover {\n",
              "      background-color: #434B5C;\n",
              "      box-shadow: 0px 1px 3px 1px rgba(0, 0, 0, 0.15);\n",
              "      filter: drop-shadow(0px 1px 2px rgba(0, 0, 0, 0.3));\n",
              "      fill: #FFFFFF;\n",
              "    }\n",
              "  </style>\n",
              "\n",
              "      <script>\n",
              "        const buttonEl =\n",
              "          document.querySelector('#df-63479a12-4920-4b8b-b8fc-15f6610b6039 button.colab-df-convert');\n",
              "        buttonEl.style.display =\n",
              "          google.colab.kernel.accessAllowed ? 'block' : 'none';\n",
              "\n",
              "        async function convertToInteractive(key) {\n",
              "          const element = document.querySelector('#df-63479a12-4920-4b8b-b8fc-15f6610b6039');\n",
              "          const dataTable =\n",
              "            await google.colab.kernel.invokeFunction('convertToInteractive',\n",
              "                                                     [key], {});\n",
              "          if (!dataTable) return;\n",
              "\n",
              "          const docLinkHtml = 'Like what you see? Visit the ' +\n",
              "            '<a target=\"_blank\" href=https://colab.research.google.com/notebooks/data_table.ipynb>data table notebook</a>'\n",
              "            + ' to learn more about interactive tables.';\n",
              "          element.innerHTML = '';\n",
              "          dataTable['output_type'] = 'display_data';\n",
              "          await google.colab.output.renderOutput(dataTable, element);\n",
              "          const docLink = document.createElement('div');\n",
              "          docLink.innerHTML = docLinkHtml;\n",
              "          element.appendChild(docLink);\n",
              "        }\n",
              "      </script>\n",
              "    </div>\n",
              "  </div>\n",
              "  "
            ]
          },
          "metadata": {},
          "execution_count": 28
        }
      ]
    },
    {
      "cell_type": "code",
      "source": [
        "df_7.to_csv('final_extraction.csv', index = False)# storing extraction to csv file "
      ],
      "metadata": {
        "id": "SacIVvHK5XE4"
      },
      "execution_count": 29,
      "outputs": []
    }
  ]
}